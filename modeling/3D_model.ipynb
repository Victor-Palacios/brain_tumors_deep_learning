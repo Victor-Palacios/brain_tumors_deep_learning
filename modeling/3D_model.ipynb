{
 "cells": [
  {
   "cell_type": "code",
   "execution_count": 2,
   "metadata": {
    "execution": {
     "iopub.execute_input": "2021-08-11T04:26:45.390075Z",
     "iopub.status.busy": "2021-08-11T04:26:45.389679Z",
     "iopub.status.idle": "2021-08-11T04:26:54.277461Z",
     "shell.execute_reply": "2021-08-11T04:26:54.276315Z",
     "shell.execute_reply.started": "2021-08-11T04:26:45.390037Z"
    }
   },
   "outputs": [
    {
     "name": "stdout",
     "output_type": "stream",
     "text": [
      "Collecting monai\n",
      "  Downloading monai-0.6.0-202107081903-py3-none-any.whl (584 kB)\n",
      "\u001b[K     |████████████████████████████████| 584 kB 812 kB/s eta 0:00:01\n",
      "\u001b[?25hRequirement already satisfied: torch>=1.5 in /opt/conda/lib/python3.7/site-packages (from monai) (1.7.0)\n",
      "Requirement already satisfied: numpy>=1.17 in /opt/conda/lib/python3.7/site-packages (from monai) (1.19.5)\n",
      "Requirement already satisfied: future in /opt/conda/lib/python3.7/site-packages (from torch>=1.5->monai) (0.18.2)\n",
      "Requirement already satisfied: typing_extensions in /opt/conda/lib/python3.7/site-packages (from torch>=1.5->monai) (3.7.4.3)\n",
      "Requirement already satisfied: dataclasses in /opt/conda/lib/python3.7/site-packages (from torch>=1.5->monai) (0.6)\n",
      "Installing collected packages: monai\n",
      "Successfully installed monai-0.6.0\n",
      "\u001b[33mWARNING: Running pip as root will break packages and permissions. You should install packages reliably by using venv: https://pip.pypa.io/warnings/venv\u001b[0m\n"
     ]
    }
   ],
   "source": [
    "!pip install monai"
   ]
  },
  {
   "cell_type": "code",
   "execution_count": 3,
   "metadata": {
    "_cell_guid": "b1076dfc-b9ad-4769-8c92-a6c4dae69d19",
    "_uuid": "8f2839f25d086af736a60e9eeb907d3b93b6e0e5",
    "execution": {
     "iopub.execute_input": "2021-08-11T04:26:54.282181Z",
     "iopub.status.busy": "2021-08-11T04:26:54.281820Z",
     "iopub.status.idle": "2021-08-11T04:26:54.289625Z",
     "shell.execute_reply": "2021-08-11T04:26:54.288636Z",
     "shell.execute_reply.started": "2021-08-11T04:26:54.282138Z"
    }
   },
   "outputs": [],
   "source": [
    "import numpy as np # linear algebra\n",
    "import pandas as pd # data processing, CSV file I/O (e.g. pd.read_csv)"
   ]
  },
  {
   "cell_type": "code",
   "execution_count": 4,
   "metadata": {
    "execution": {
     "iopub.execute_input": "2021-08-11T04:26:54.294251Z",
     "iopub.status.busy": "2021-08-11T04:26:54.293878Z",
     "iopub.status.idle": "2021-08-11T04:26:58.873508Z",
     "shell.execute_reply": "2021-08-11T04:26:58.872689Z",
     "shell.execute_reply.started": "2021-08-11T04:26:54.294220Z"
    }
   },
   "outputs": [],
   "source": [
    "import monai\n",
    "from monai.transforms import Compose, Resize, ScaleIntensity, ToTensor, RandAffine, ResizeWithPadOrCrop, apply_transform, RandFlip"
   ]
  },
  {
   "cell_type": "code",
   "execution_count": 5,
   "metadata": {
    "execution": {
     "iopub.execute_input": "2021-08-11T04:26:58.875315Z",
     "iopub.status.busy": "2021-08-11T04:26:58.875000Z",
     "iopub.status.idle": "2021-08-11T04:26:58.880470Z",
     "shell.execute_reply": "2021-08-11T04:26:58.879548Z",
     "shell.execute_reply.started": "2021-08-11T04:26:58.875278Z"
    }
   },
   "outputs": [],
   "source": [
    "from monai.networks.nets import EfficientNetBN"
   ]
  },
  {
   "cell_type": "code",
   "execution_count": 6,
   "metadata": {
    "execution": {
     "iopub.execute_input": "2021-08-11T04:26:58.882365Z",
     "iopub.status.busy": "2021-08-11T04:26:58.881944Z",
     "iopub.status.idle": "2021-08-11T04:26:58.891353Z",
     "shell.execute_reply": "2021-08-11T04:26:58.890525Z",
     "shell.execute_reply.started": "2021-08-11T04:26:58.882330Z"
    }
   },
   "outputs": [],
   "source": [
    "import pydicom\n",
    "import matplotlib.pyplot as plt\n",
    "import os"
   ]
  },
  {
   "cell_type": "code",
   "execution_count": 7,
   "metadata": {
    "execution": {
     "iopub.execute_input": "2021-08-11T04:26:58.892948Z",
     "iopub.status.busy": "2021-08-11T04:26:58.892615Z",
     "iopub.status.idle": "2021-08-11T04:26:58.900282Z",
     "shell.execute_reply": "2021-08-11T04:26:58.899440Z",
     "shell.execute_reply.started": "2021-08-11T04:26:58.892914Z"
    }
   },
   "outputs": [],
   "source": [
    "from sklearn.model_selection import train_test_split"
   ]
  },
  {
   "cell_type": "code",
   "execution_count": 8,
   "metadata": {
    "execution": {
     "iopub.execute_input": "2021-08-11T04:26:58.901818Z",
     "iopub.status.busy": "2021-08-11T04:26:58.901361Z",
     "iopub.status.idle": "2021-08-11T04:26:58.908927Z",
     "shell.execute_reply": "2021-08-11T04:26:58.908238Z",
     "shell.execute_reply.started": "2021-08-11T04:26:58.901787Z"
    }
   },
   "outputs": [],
   "source": [
    "import torch\n",
    "from torch.utils.data import Dataset, DataLoader\n",
    "import torch.nn as nn"
   ]
  },
  {
   "cell_type": "code",
   "execution_count": 9,
   "metadata": {
    "execution": {
     "iopub.execute_input": "2021-08-11T04:26:58.912115Z",
     "iopub.status.busy": "2021-08-11T04:26:58.911780Z",
     "iopub.status.idle": "2021-08-11T04:26:58.919885Z",
     "shell.execute_reply": "2021-08-11T04:26:58.919174Z",
     "shell.execute_reply.started": "2021-08-11T04:26:58.912082Z"
    }
   },
   "outputs": [],
   "source": [
    "from tqdm.notebook import tqdm"
   ]
  },
  {
   "cell_type": "code",
   "execution_count": 10,
   "metadata": {
    "execution": {
     "iopub.execute_input": "2021-08-11T04:26:58.923363Z",
     "iopub.status.busy": "2021-08-11T04:26:58.923057Z",
     "iopub.status.idle": "2021-08-11T04:27:00.036548Z",
     "shell.execute_reply": "2021-08-11T04:27:00.035686Z",
     "shell.execute_reply.started": "2021-08-11T04:26:58.923337Z"
    }
   },
   "outputs": [],
   "source": [
    "train_df = pd.read_csv(\"../input/rsna-miccai-brain-tumor-radiogenomic-classification/train_labels.csv\")\n",
    "train_planes = pd.read_csv(\"../input/train-cleanedcsv/train_cleaned.csv\", index_col=0)"
   ]
  },
  {
   "cell_type": "code",
   "execution_count": 11,
   "metadata": {
    "execution": {
     "iopub.execute_input": "2021-08-11T04:27:00.038720Z",
     "iopub.status.busy": "2021-08-11T04:27:00.038177Z",
     "iopub.status.idle": "2021-08-11T04:27:00.059004Z",
     "shell.execute_reply": "2021-08-11T04:27:00.058063Z",
     "shell.execute_reply.started": "2021-08-11T04:27:00.038679Z"
    }
   },
   "outputs": [
    {
     "data": {
      "text/html": [
       "<div>\n",
       "<style scoped>\n",
       "    .dataframe tbody tr th:only-of-type {\n",
       "        vertical-align: middle;\n",
       "    }\n",
       "\n",
       "    .dataframe tbody tr th {\n",
       "        vertical-align: top;\n",
       "    }\n",
       "\n",
       "    .dataframe thead th {\n",
       "        text-align: right;\n",
       "    }\n",
       "</style>\n",
       "<table border=\"1\" class=\"dataframe\">\n",
       "  <thead>\n",
       "    <tr style=\"text-align: right;\">\n",
       "      <th></th>\n",
       "      <th>BraTS21ID</th>\n",
       "      <th>MGMT_value</th>\n",
       "    </tr>\n",
       "  </thead>\n",
       "  <tbody>\n",
       "    <tr>\n",
       "      <th>0</th>\n",
       "      <td>0</td>\n",
       "      <td>1</td>\n",
       "    </tr>\n",
       "    <tr>\n",
       "      <th>1</th>\n",
       "      <td>2</td>\n",
       "      <td>1</td>\n",
       "    </tr>\n",
       "    <tr>\n",
       "      <th>2</th>\n",
       "      <td>3</td>\n",
       "      <td>0</td>\n",
       "    </tr>\n",
       "    <tr>\n",
       "      <th>3</th>\n",
       "      <td>5</td>\n",
       "      <td>1</td>\n",
       "    </tr>\n",
       "    <tr>\n",
       "      <th>4</th>\n",
       "      <td>6</td>\n",
       "      <td>1</td>\n",
       "    </tr>\n",
       "    <tr>\n",
       "      <th>...</th>\n",
       "      <td>...</td>\n",
       "      <td>...</td>\n",
       "    </tr>\n",
       "    <tr>\n",
       "      <th>580</th>\n",
       "      <td>1005</td>\n",
       "      <td>1</td>\n",
       "    </tr>\n",
       "    <tr>\n",
       "      <th>581</th>\n",
       "      <td>1007</td>\n",
       "      <td>1</td>\n",
       "    </tr>\n",
       "    <tr>\n",
       "      <th>582</th>\n",
       "      <td>1008</td>\n",
       "      <td>1</td>\n",
       "    </tr>\n",
       "    <tr>\n",
       "      <th>583</th>\n",
       "      <td>1009</td>\n",
       "      <td>0</td>\n",
       "    </tr>\n",
       "    <tr>\n",
       "      <th>584</th>\n",
       "      <td>1010</td>\n",
       "      <td>0</td>\n",
       "    </tr>\n",
       "  </tbody>\n",
       "</table>\n",
       "<p>585 rows × 2 columns</p>\n",
       "</div>"
      ],
      "text/plain": [
       "     BraTS21ID  MGMT_value\n",
       "0            0           1\n",
       "1            2           1\n",
       "2            3           0\n",
       "3            5           1\n",
       "4            6           1\n",
       "..         ...         ...\n",
       "580       1005           1\n",
       "581       1007           1\n",
       "582       1008           1\n",
       "583       1009           0\n",
       "584       1010           0\n",
       "\n",
       "[585 rows x 2 columns]"
      ]
     },
     "execution_count": 11,
     "metadata": {},
     "output_type": "execute_result"
    }
   ],
   "source": [
    "train_df"
   ]
  },
  {
   "cell_type": "code",
   "execution_count": 12,
   "metadata": {
    "execution": {
     "iopub.execute_input": "2021-08-11T04:27:00.060745Z",
     "iopub.status.busy": "2021-08-11T04:27:00.060395Z",
     "iopub.status.idle": "2021-08-11T04:27:00.080039Z",
     "shell.execute_reply": "2021-08-11T04:27:00.079060Z",
     "shell.execute_reply.started": "2021-08-11T04:27:00.060700Z"
    }
   },
   "outputs": [
    {
     "data": {
      "text/html": [
       "<div>\n",
       "<style scoped>\n",
       "    .dataframe tbody tr th:only-of-type {\n",
       "        vertical-align: middle;\n",
       "    }\n",
       "\n",
       "    .dataframe tbody tr th {\n",
       "        vertical-align: top;\n",
       "    }\n",
       "\n",
       "    .dataframe thead th {\n",
       "        text-align: right;\n",
       "    }\n",
       "</style>\n",
       "<table border=\"1\" class=\"dataframe\">\n",
       "  <thead>\n",
       "    <tr style=\"text-align: right;\">\n",
       "      <th></th>\n",
       "      <th>patient</th>\n",
       "      <th>modality</th>\n",
       "      <th>plane</th>\n",
       "      <th>image_id</th>\n",
       "      <th>has_image</th>\n",
       "      <th>train_or_test</th>\n",
       "      <th>path</th>\n",
       "      <th>has_tumor</th>\n",
       "    </tr>\n",
       "  </thead>\n",
       "  <tbody>\n",
       "    <tr>\n",
       "      <th>0</th>\n",
       "      <td>87</td>\n",
       "      <td>T1w</td>\n",
       "      <td>axial</td>\n",
       "      <td>14</td>\n",
       "      <td>1</td>\n",
       "      <td>train</td>\n",
       "      <td>/Users/victor/Desktop/deep_learning/project/br...</td>\n",
       "      <td>1</td>\n",
       "    </tr>\n",
       "    <tr>\n",
       "      <th>1</th>\n",
       "      <td>53</td>\n",
       "      <td>FLAIR</td>\n",
       "      <td>axial</td>\n",
       "      <td>464</td>\n",
       "      <td>1</td>\n",
       "      <td>train</td>\n",
       "      <td>/Users/victor/Desktop/deep_learning/project/br...</td>\n",
       "      <td>0</td>\n",
       "    </tr>\n",
       "    <tr>\n",
       "      <th>2</th>\n",
       "      <td>28</td>\n",
       "      <td>T2w</td>\n",
       "      <td>sagittal</td>\n",
       "      <td>294</td>\n",
       "      <td>1</td>\n",
       "      <td>train</td>\n",
       "      <td>/Users/victor/Desktop/deep_learning/project/br...</td>\n",
       "      <td>1</td>\n",
       "    </tr>\n",
       "    <tr>\n",
       "      <th>3</th>\n",
       "      <td>6</td>\n",
       "      <td>T2w</td>\n",
       "      <td>sagittal</td>\n",
       "      <td>64</td>\n",
       "      <td>0</td>\n",
       "      <td>train</td>\n",
       "      <td>/Users/victor/Desktop/deep_learning/project/br...</td>\n",
       "      <td>1</td>\n",
       "    </tr>\n",
       "    <tr>\n",
       "      <th>4</th>\n",
       "      <td>478</td>\n",
       "      <td>T1wCE</td>\n",
       "      <td>axial</td>\n",
       "      <td>130</td>\n",
       "      <td>1</td>\n",
       "      <td>train</td>\n",
       "      <td>/Users/victor/Desktop/deep_learning/project/br...</td>\n",
       "      <td>1</td>\n",
       "    </tr>\n",
       "    <tr>\n",
       "      <th>...</th>\n",
       "      <td>...</td>\n",
       "      <td>...</td>\n",
       "      <td>...</td>\n",
       "      <td>...</td>\n",
       "      <td>...</td>\n",
       "      <td>...</td>\n",
       "      <td>...</td>\n",
       "      <td>...</td>\n",
       "    </tr>\n",
       "    <tr>\n",
       "      <th>348636</th>\n",
       "      <td>387</td>\n",
       "      <td>T1w</td>\n",
       "      <td>axial</td>\n",
       "      <td>83</td>\n",
       "      <td>1</td>\n",
       "      <td>train</td>\n",
       "      <td>/Users/victor/Desktop/deep_learning/project/br...</td>\n",
       "      <td>0</td>\n",
       "    </tr>\n",
       "    <tr>\n",
       "      <th>348637</th>\n",
       "      <td>674</td>\n",
       "      <td>T1wCE</td>\n",
       "      <td>axial</td>\n",
       "      <td>79</td>\n",
       "      <td>1</td>\n",
       "      <td>train</td>\n",
       "      <td>/Users/victor/Desktop/deep_learning/project/br...</td>\n",
       "      <td>1</td>\n",
       "    </tr>\n",
       "    <tr>\n",
       "      <th>348638</th>\n",
       "      <td>100</td>\n",
       "      <td>FLAIR</td>\n",
       "      <td>axial</td>\n",
       "      <td>10</td>\n",
       "      <td>1</td>\n",
       "      <td>train</td>\n",
       "      <td>/Users/victor/Desktop/deep_learning/project/br...</td>\n",
       "      <td>1</td>\n",
       "    </tr>\n",
       "    <tr>\n",
       "      <th>348639</th>\n",
       "      <td>760</td>\n",
       "      <td>T1w</td>\n",
       "      <td>axial</td>\n",
       "      <td>6</td>\n",
       "      <td>0</td>\n",
       "      <td>train</td>\n",
       "      <td>/Users/victor/Desktop/deep_learning/project/br...</td>\n",
       "      <td>1</td>\n",
       "    </tr>\n",
       "    <tr>\n",
       "      <th>348640</th>\n",
       "      <td>399</td>\n",
       "      <td>T1w</td>\n",
       "      <td>axial</td>\n",
       "      <td>79</td>\n",
       "      <td>1</td>\n",
       "      <td>train</td>\n",
       "      <td>/Users/victor/Desktop/deep_learning/project/br...</td>\n",
       "      <td>0</td>\n",
       "    </tr>\n",
       "  </tbody>\n",
       "</table>\n",
       "<p>348641 rows × 8 columns</p>\n",
       "</div>"
      ],
      "text/plain": [
       "        patient modality     plane  image_id  has_image train_or_test  \\\n",
       "0            87      T1w     axial        14          1         train   \n",
       "1            53    FLAIR     axial       464          1         train   \n",
       "2            28      T2w  sagittal       294          1         train   \n",
       "3             6      T2w  sagittal        64          0         train   \n",
       "4           478    T1wCE     axial       130          1         train   \n",
       "...         ...      ...       ...       ...        ...           ...   \n",
       "348636      387      T1w     axial        83          1         train   \n",
       "348637      674    T1wCE     axial        79          1         train   \n",
       "348638      100    FLAIR     axial        10          1         train   \n",
       "348639      760      T1w     axial         6          0         train   \n",
       "348640      399      T1w     axial        79          1         train   \n",
       "\n",
       "                                                     path  has_tumor  \n",
       "0       /Users/victor/Desktop/deep_learning/project/br...          1  \n",
       "1       /Users/victor/Desktop/deep_learning/project/br...          0  \n",
       "2       /Users/victor/Desktop/deep_learning/project/br...          1  \n",
       "3       /Users/victor/Desktop/deep_learning/project/br...          1  \n",
       "4       /Users/victor/Desktop/deep_learning/project/br...          1  \n",
       "...                                                   ...        ...  \n",
       "348636  /Users/victor/Desktop/deep_learning/project/br...          0  \n",
       "348637  /Users/victor/Desktop/deep_learning/project/br...          1  \n",
       "348638  /Users/victor/Desktop/deep_learning/project/br...          1  \n",
       "348639  /Users/victor/Desktop/deep_learning/project/br...          1  \n",
       "348640  /Users/victor/Desktop/deep_learning/project/br...          0  \n",
       "\n",
       "[348641 rows x 8 columns]"
      ]
     },
     "execution_count": 12,
     "metadata": {},
     "output_type": "execute_result"
    }
   ],
   "source": [
    "train_planes"
   ]
  },
  {
   "cell_type": "code",
   "execution_count": 13,
   "metadata": {
    "execution": {
     "iopub.execute_input": "2021-08-11T04:27:00.081928Z",
     "iopub.status.busy": "2021-08-11T04:27:00.081523Z",
     "iopub.status.idle": "2021-08-11T04:27:00.091372Z",
     "shell.execute_reply": "2021-08-11T04:27:00.090554Z",
     "shell.execute_reply.started": "2021-08-11T04:27:00.081890Z"
    }
   },
   "outputs": [],
   "source": [
    "train_df[\"BraTS21ID_filled\"] = train_df.BraTS21ID.astype(str).str.zfill(5)"
   ]
  },
  {
   "cell_type": "code",
   "execution_count": 14,
   "metadata": {
    "execution": {
     "iopub.execute_input": "2021-08-11T04:27:00.093126Z",
     "iopub.status.busy": "2021-08-11T04:27:00.092581Z",
     "iopub.status.idle": "2021-08-11T04:27:00.105644Z",
     "shell.execute_reply": "2021-08-11T04:27:00.104512Z",
     "shell.execute_reply.started": "2021-08-11T04:27:00.093090Z"
    }
   },
   "outputs": [
    {
     "data": {
      "text/html": [
       "<div>\n",
       "<style scoped>\n",
       "    .dataframe tbody tr th:only-of-type {\n",
       "        vertical-align: middle;\n",
       "    }\n",
       "\n",
       "    .dataframe tbody tr th {\n",
       "        vertical-align: top;\n",
       "    }\n",
       "\n",
       "    .dataframe thead th {\n",
       "        text-align: right;\n",
       "    }\n",
       "</style>\n",
       "<table border=\"1\" class=\"dataframe\">\n",
       "  <thead>\n",
       "    <tr style=\"text-align: right;\">\n",
       "      <th></th>\n",
       "      <th>BraTS21ID</th>\n",
       "      <th>MGMT_value</th>\n",
       "      <th>BraTS21ID_filled</th>\n",
       "    </tr>\n",
       "  </thead>\n",
       "  <tbody>\n",
       "    <tr>\n",
       "      <th>0</th>\n",
       "      <td>0</td>\n",
       "      <td>1</td>\n",
       "      <td>00000</td>\n",
       "    </tr>\n",
       "    <tr>\n",
       "      <th>1</th>\n",
       "      <td>2</td>\n",
       "      <td>1</td>\n",
       "      <td>00002</td>\n",
       "    </tr>\n",
       "    <tr>\n",
       "      <th>2</th>\n",
       "      <td>3</td>\n",
       "      <td>0</td>\n",
       "      <td>00003</td>\n",
       "    </tr>\n",
       "    <tr>\n",
       "      <th>3</th>\n",
       "      <td>5</td>\n",
       "      <td>1</td>\n",
       "      <td>00005</td>\n",
       "    </tr>\n",
       "    <tr>\n",
       "      <th>4</th>\n",
       "      <td>6</td>\n",
       "      <td>1</td>\n",
       "      <td>00006</td>\n",
       "    </tr>\n",
       "    <tr>\n",
       "      <th>...</th>\n",
       "      <td>...</td>\n",
       "      <td>...</td>\n",
       "      <td>...</td>\n",
       "    </tr>\n",
       "    <tr>\n",
       "      <th>580</th>\n",
       "      <td>1005</td>\n",
       "      <td>1</td>\n",
       "      <td>01005</td>\n",
       "    </tr>\n",
       "    <tr>\n",
       "      <th>581</th>\n",
       "      <td>1007</td>\n",
       "      <td>1</td>\n",
       "      <td>01007</td>\n",
       "    </tr>\n",
       "    <tr>\n",
       "      <th>582</th>\n",
       "      <td>1008</td>\n",
       "      <td>1</td>\n",
       "      <td>01008</td>\n",
       "    </tr>\n",
       "    <tr>\n",
       "      <th>583</th>\n",
       "      <td>1009</td>\n",
       "      <td>0</td>\n",
       "      <td>01009</td>\n",
       "    </tr>\n",
       "    <tr>\n",
       "      <th>584</th>\n",
       "      <td>1010</td>\n",
       "      <td>0</td>\n",
       "      <td>01010</td>\n",
       "    </tr>\n",
       "  </tbody>\n",
       "</table>\n",
       "<p>585 rows × 3 columns</p>\n",
       "</div>"
      ],
      "text/plain": [
       "     BraTS21ID  MGMT_value BraTS21ID_filled\n",
       "0            0           1            00000\n",
       "1            2           1            00002\n",
       "2            3           0            00003\n",
       "3            5           1            00005\n",
       "4            6           1            00006\n",
       "..         ...         ...              ...\n",
       "580       1005           1            01005\n",
       "581       1007           1            01007\n",
       "582       1008           1            01008\n",
       "583       1009           0            01009\n",
       "584       1010           0            01010\n",
       "\n",
       "[585 rows x 3 columns]"
      ]
     },
     "execution_count": 14,
     "metadata": {},
     "output_type": "execute_result"
    }
   ],
   "source": [
    "train_df"
   ]
  },
  {
   "cell_type": "code",
   "execution_count": 15,
   "metadata": {
    "execution": {
     "iopub.execute_input": "2021-08-11T04:27:00.107583Z",
     "iopub.status.busy": "2021-08-11T04:27:00.107124Z",
     "iopub.status.idle": "2021-08-11T04:27:00.747901Z",
     "shell.execute_reply": "2021-08-11T04:27:00.746835Z",
     "shell.execute_reply.started": "2021-08-11T04:27:00.107466Z"
    }
   },
   "outputs": [],
   "source": [
    "!mkdir ./resized_cropped"
   ]
  },
  {
   "cell_type": "code",
   "execution_count": 16,
   "metadata": {
    "execution": {
     "iopub.execute_input": "2021-08-11T04:27:00.749841Z",
     "iopub.status.busy": "2021-08-11T04:27:00.749511Z",
     "iopub.status.idle": "2021-08-11T04:27:00.758304Z",
     "shell.execute_reply": "2021-08-11T04:27:00.757550Z",
     "shell.execute_reply.started": "2021-08-11T04:27:00.749799Z"
    }
   },
   "outputs": [],
   "source": [
    "def load_dicom(path):\n",
    "    dicom = pydicom.read_file(path)\n",
    "    data = dicom.pixel_array\n",
    "    data = data - np.min(data)\n",
    "    if np.max(data) != 0:\n",
    "        data = data / np.max(data)\n",
    "    data = (data * 255).astype(np.uint8)\n",
    "    return data"
   ]
  },
  {
   "cell_type": "code",
   "execution_count": 17,
   "metadata": {
    "execution": {
     "iopub.execute_input": "2021-08-11T04:27:00.760381Z",
     "iopub.status.busy": "2021-08-11T04:27:00.759771Z",
     "iopub.status.idle": "2021-08-11T04:38:58.952999Z",
     "shell.execute_reply": "2021-08-11T04:38:58.951971Z",
     "shell.execute_reply.started": "2021-08-11T04:27:00.760290Z"
    }
   },
   "outputs": [
    {
     "data": {
      "application/vnd.jupyter.widget-view+json": {
       "model_id": "6f9fab1b01284c71abfde0034231cf54",
       "version_major": 2,
       "version_minor": 0
      },
      "text/plain": [
       "  0%|          | 0/585 [00:00<?, ?it/s]"
      ]
     },
     "metadata": {},
     "output_type": "display_data"
    },
    {
     "name": "stdout",
     "output_type": "stream",
     "text": [
      "Couldn't process patient 70\n",
      "Couldn't process patient 351\n",
      "Couldn't process patient 353\n",
      "Couldn't process patient 445\n",
      "Couldn't process patient 539\n",
      "Couldn't process patient 556\n",
      "Couldn't process patient 568\n",
      "Couldn't process patient 572\n",
      "Couldn't process patient 578\n",
      "Couldn't process patient 581\n",
      "Couldn't process patient 584\n",
      "Couldn't process patient 587\n",
      "Couldn't process patient 589\n",
      "Couldn't process patient 593\n",
      "Couldn't process patient 594\n",
      "Couldn't process patient 596\n",
      "Couldn't process patient 610\n",
      "Couldn't process patient 756\n"
     ]
    }
   ],
   "source": [
    "resizer = Resize((-1,224,224))\n",
    "padder = ResizeWithPadOrCrop((50,224,224))\n",
    "unable_to_process = []\n",
    "\n",
    "for (patient,filled) in tqdm(train_df[[\"BraTS21ID\", \"BraTS21ID_filled\"]].values):\n",
    "    try:\n",
    "        img_nums = train_planes[(train_planes.patient == patient) & (train_planes.modality == \"T1w\") & (train_planes.plane == \"axial\")][\"image_id\"].sort_values().values\n",
    "        patient_x = np.array([load_dicom(f\"../input/rsna-miccai-brain-tumor-radiogenomic-classification/train/{filled}/T1w/Image-{num}.dcm\") for num in img_nums])\n",
    "        h,w,d = patient_x.shape\n",
    "        patient_x = patient_x.reshape((-1, h, w, d))\n",
    "        resized = resizer(patient_x)\n",
    "        padded = padder(resized)\n",
    "        np.save(f\"./resized_cropped/patient_{patient}.npy\", padded)\n",
    "    except:\n",
    "        print(f\"Couldn't process patient {patient}\")\n",
    "        unable_to_process.append(patient)"
   ]
  },
  {
   "cell_type": "code",
   "execution_count": 18,
   "metadata": {
    "execution": {
     "iopub.execute_input": "2021-08-11T04:38:58.954881Z",
     "iopub.status.busy": "2021-08-11T04:38:58.954514Z",
     "iopub.status.idle": "2021-08-11T04:38:58.973323Z",
     "shell.execute_reply": "2021-08-11T04:38:58.972246Z",
     "shell.execute_reply.started": "2021-08-11T04:38:58.954841Z"
    }
   },
   "outputs": [
    {
     "data": {
      "text/html": [
       "<div>\n",
       "<style scoped>\n",
       "    .dataframe tbody tr th:only-of-type {\n",
       "        vertical-align: middle;\n",
       "    }\n",
       "\n",
       "    .dataframe tbody tr th {\n",
       "        vertical-align: top;\n",
       "    }\n",
       "\n",
       "    .dataframe thead th {\n",
       "        text-align: right;\n",
       "    }\n",
       "</style>\n",
       "<table border=\"1\" class=\"dataframe\">\n",
       "  <thead>\n",
       "    <tr style=\"text-align: right;\">\n",
       "      <th></th>\n",
       "      <th>BraTS21ID</th>\n",
       "      <th>MGMT_value</th>\n",
       "      <th>BraTS21ID_filled</th>\n",
       "    </tr>\n",
       "  </thead>\n",
       "  <tbody>\n",
       "    <tr>\n",
       "      <th>0</th>\n",
       "      <td>0</td>\n",
       "      <td>1</td>\n",
       "      <td>00000</td>\n",
       "    </tr>\n",
       "    <tr>\n",
       "      <th>1</th>\n",
       "      <td>2</td>\n",
       "      <td>1</td>\n",
       "      <td>00002</td>\n",
       "    </tr>\n",
       "    <tr>\n",
       "      <th>2</th>\n",
       "      <td>3</td>\n",
       "      <td>0</td>\n",
       "      <td>00003</td>\n",
       "    </tr>\n",
       "    <tr>\n",
       "      <th>3</th>\n",
       "      <td>5</td>\n",
       "      <td>1</td>\n",
       "      <td>00005</td>\n",
       "    </tr>\n",
       "    <tr>\n",
       "      <th>4</th>\n",
       "      <td>6</td>\n",
       "      <td>1</td>\n",
       "      <td>00006</td>\n",
       "    </tr>\n",
       "    <tr>\n",
       "      <th>...</th>\n",
       "      <td>...</td>\n",
       "      <td>...</td>\n",
       "      <td>...</td>\n",
       "    </tr>\n",
       "    <tr>\n",
       "      <th>580</th>\n",
       "      <td>1005</td>\n",
       "      <td>1</td>\n",
       "      <td>01005</td>\n",
       "    </tr>\n",
       "    <tr>\n",
       "      <th>581</th>\n",
       "      <td>1007</td>\n",
       "      <td>1</td>\n",
       "      <td>01007</td>\n",
       "    </tr>\n",
       "    <tr>\n",
       "      <th>582</th>\n",
       "      <td>1008</td>\n",
       "      <td>1</td>\n",
       "      <td>01008</td>\n",
       "    </tr>\n",
       "    <tr>\n",
       "      <th>583</th>\n",
       "      <td>1009</td>\n",
       "      <td>0</td>\n",
       "      <td>01009</td>\n",
       "    </tr>\n",
       "    <tr>\n",
       "      <th>584</th>\n",
       "      <td>1010</td>\n",
       "      <td>0</td>\n",
       "      <td>01010</td>\n",
       "    </tr>\n",
       "  </tbody>\n",
       "</table>\n",
       "<p>567 rows × 3 columns</p>\n",
       "</div>"
      ],
      "text/plain": [
       "     BraTS21ID  MGMT_value BraTS21ID_filled\n",
       "0            0           1            00000\n",
       "1            2           1            00002\n",
       "2            3           0            00003\n",
       "3            5           1            00005\n",
       "4            6           1            00006\n",
       "..         ...         ...              ...\n",
       "580       1005           1            01005\n",
       "581       1007           1            01007\n",
       "582       1008           1            01008\n",
       "583       1009           0            01009\n",
       "584       1010           0            01010\n",
       "\n",
       "[567 rows x 3 columns]"
      ]
     },
     "execution_count": 18,
     "metadata": {},
     "output_type": "execute_result"
    }
   ],
   "source": [
    "resized_train = train_df[~train_df.BraTS21ID.isin(unable_to_process)]\n",
    "resized_train"
   ]
  },
  {
   "cell_type": "code",
   "execution_count": 19,
   "metadata": {
    "execution": {
     "iopub.execute_input": "2021-08-11T04:38:58.975294Z",
     "iopub.status.busy": "2021-08-11T04:38:58.974866Z",
     "iopub.status.idle": "2021-08-11T04:38:58.996350Z",
     "shell.execute_reply": "2021-08-11T04:38:58.995434Z",
     "shell.execute_reply.started": "2021-08-11T04:38:58.975253Z"
    }
   },
   "outputs": [
    {
     "data": {
      "text/html": [
       "<div>\n",
       "<style scoped>\n",
       "    .dataframe tbody tr th:only-of-type {\n",
       "        vertical-align: middle;\n",
       "    }\n",
       "\n",
       "    .dataframe tbody tr th {\n",
       "        vertical-align: top;\n",
       "    }\n",
       "\n",
       "    .dataframe thead th {\n",
       "        text-align: right;\n",
       "    }\n",
       "</style>\n",
       "<table border=\"1\" class=\"dataframe\">\n",
       "  <thead>\n",
       "    <tr style=\"text-align: right;\">\n",
       "      <th></th>\n",
       "      <th>BraTS21ID</th>\n",
       "      <th>MGMT_value</th>\n",
       "      <th>BraTS21ID_filled</th>\n",
       "    </tr>\n",
       "  </thead>\n",
       "  <tbody>\n",
       "    <tr>\n",
       "      <th>0</th>\n",
       "      <td>0</td>\n",
       "      <td>1</td>\n",
       "      <td>00000</td>\n",
       "    </tr>\n",
       "    <tr>\n",
       "      <th>1</th>\n",
       "      <td>2</td>\n",
       "      <td>1</td>\n",
       "      <td>00002</td>\n",
       "    </tr>\n",
       "    <tr>\n",
       "      <th>2</th>\n",
       "      <td>3</td>\n",
       "      <td>0</td>\n",
       "      <td>00003</td>\n",
       "    </tr>\n",
       "    <tr>\n",
       "      <th>3</th>\n",
       "      <td>5</td>\n",
       "      <td>1</td>\n",
       "      <td>00005</td>\n",
       "    </tr>\n",
       "    <tr>\n",
       "      <th>4</th>\n",
       "      <td>6</td>\n",
       "      <td>1</td>\n",
       "      <td>00006</td>\n",
       "    </tr>\n",
       "    <tr>\n",
       "      <th>...</th>\n",
       "      <td>...</td>\n",
       "      <td>...</td>\n",
       "      <td>...</td>\n",
       "    </tr>\n",
       "    <tr>\n",
       "      <th>580</th>\n",
       "      <td>1005</td>\n",
       "      <td>1</td>\n",
       "      <td>01005</td>\n",
       "    </tr>\n",
       "    <tr>\n",
       "      <th>581</th>\n",
       "      <td>1007</td>\n",
       "      <td>1</td>\n",
       "      <td>01007</td>\n",
       "    </tr>\n",
       "    <tr>\n",
       "      <th>582</th>\n",
       "      <td>1008</td>\n",
       "      <td>1</td>\n",
       "      <td>01008</td>\n",
       "    </tr>\n",
       "    <tr>\n",
       "      <th>583</th>\n",
       "      <td>1009</td>\n",
       "      <td>0</td>\n",
       "      <td>01009</td>\n",
       "    </tr>\n",
       "    <tr>\n",
       "      <th>584</th>\n",
       "      <td>1010</td>\n",
       "      <td>0</td>\n",
       "      <td>01010</td>\n",
       "    </tr>\n",
       "  </tbody>\n",
       "</table>\n",
       "<p>567 rows × 3 columns</p>\n",
       "</div>"
      ],
      "text/plain": [
       "     BraTS21ID  MGMT_value BraTS21ID_filled\n",
       "0            0           1            00000\n",
       "1            2           1            00002\n",
       "2            3           0            00003\n",
       "3            5           1            00005\n",
       "4            6           1            00006\n",
       "..         ...         ...              ...\n",
       "580       1005           1            01005\n",
       "581       1007           1            01007\n",
       "582       1008           1            01008\n",
       "583       1009           0            01009\n",
       "584       1010           0            01010\n",
       "\n",
       "[567 rows x 3 columns]"
      ]
     },
     "execution_count": 19,
     "metadata": {},
     "output_type": "execute_result"
    }
   ],
   "source": [
    "resized_train"
   ]
  },
  {
   "cell_type": "code",
   "execution_count": 20,
   "metadata": {
    "execution": {
     "iopub.execute_input": "2021-08-11T04:38:58.998356Z",
     "iopub.status.busy": "2021-08-11T04:38:58.997925Z",
     "iopub.status.idle": "2021-08-11T04:38:59.004539Z",
     "shell.execute_reply": "2021-08-11T04:38:59.003706Z",
     "shell.execute_reply.started": "2021-08-11T04:38:58.998310Z"
    }
   },
   "outputs": [],
   "source": [
    "#train_final, valid_final = train_test_split(resized_train, test_size=0.2, stratify=resized_train['MGMT_value'], random_state=2021)"
   ]
  },
  {
   "cell_type": "code",
   "execution_count": 21,
   "metadata": {
    "execution": {
     "iopub.execute_input": "2021-08-11T04:38:59.006201Z",
     "iopub.status.busy": "2021-08-11T04:38:59.005782Z",
     "iopub.status.idle": "2021-08-11T04:38:59.013580Z",
     "shell.execute_reply": "2021-08-11T04:38:59.012687Z",
     "shell.execute_reply.started": "2021-08-11T04:38:59.006156Z"
    }
   },
   "outputs": [],
   "source": [
    "train_final = resized_train.copy()"
   ]
  },
  {
   "cell_type": "code",
   "execution_count": 22,
   "metadata": {
    "execution": {
     "iopub.execute_input": "2021-08-11T04:38:59.015339Z",
     "iopub.status.busy": "2021-08-11T04:38:59.014775Z",
     "iopub.status.idle": "2021-08-11T04:38:59.024677Z",
     "shell.execute_reply": "2021-08-11T04:38:59.023262Z",
     "shell.execute_reply.started": "2021-08-11T04:38:59.015300Z"
    }
   },
   "outputs": [],
   "source": [
    "class PatientDataset3D(Dataset):\n",
    "    def __init__(self, df, mode, transform=None):\n",
    "\n",
    "        self.df = df.reset_index()\n",
    "        self.mode = mode\n",
    "        self.transform = transform\n",
    "\n",
    "    def __len__(self):\n",
    "        return self.df.shape[0]   \n",
    "\n",
    "    def __getitem__(self, idx):\n",
    "        row = self.df.iloc[idx]\n",
    "        img_dir = f\"./resized_cropped/patient_{row['BraTS21ID']}.npy\" \n",
    "        img = np.load(img_dir)\n",
    "\n",
    "        if self.transform is not None:\n",
    "            img = apply_transform(self.transform, img)\n",
    "\n",
    "        if self.mode == 'test':\n",
    "            return img\n",
    "        else:\n",
    "            return img, torch.tensor(row['MGMT_value']).float()"
   ]
  },
  {
   "cell_type": "code",
   "execution_count": 23,
   "metadata": {
    "execution": {
     "iopub.execute_input": "2021-08-11T04:38:59.026597Z",
     "iopub.status.busy": "2021-08-11T04:38:59.026220Z",
     "iopub.status.idle": "2021-08-11T04:38:59.039276Z",
     "shell.execute_reply": "2021-08-11T04:38:59.038290Z",
     "shell.execute_reply.started": "2021-08-11T04:38:59.026560Z"
    }
   },
   "outputs": [],
   "source": [
    "train_transform = Compose([ScaleIntensity(),\n",
    "                           RandFlip(),\n",
    "                           RandAffine( \n",
    "                                      prob= 0.5,\n",
    "                                      translate_range=(1, 5, 5),\n",
    "                                      rotate_range=(0.2, 0.2, 0.2), \n",
    "                                      scale_range=(0, 0.2, 0.2),\n",
    "                                      padding_mode=\"border\"),\n",
    "                           ToTensor()])\n",
    "\n",
    "val_transform = Compose([ScaleIntensity(), ToTensor()])"
   ]
  },
  {
   "cell_type": "code",
   "execution_count": 24,
   "metadata": {
    "execution": {
     "iopub.execute_input": "2021-08-11T04:38:59.043536Z",
     "iopub.status.busy": "2021-08-11T04:38:59.043197Z",
     "iopub.status.idle": "2021-08-11T04:38:59.052004Z",
     "shell.execute_reply": "2021-08-11T04:38:59.051122Z",
     "shell.execute_reply.started": "2021-08-11T04:38:59.043419Z"
    }
   },
   "outputs": [],
   "source": [
    "train_ds = PatientDataset3D(train_final, mode='train', transform=train_transform)\n",
    "#valid_ds = PatientDataset3D(valid_final, mode='train', transform=val_transform)"
   ]
  },
  {
   "cell_type": "code",
   "execution_count": 25,
   "metadata": {
    "execution": {
     "iopub.execute_input": "2021-08-11T04:38:59.054261Z",
     "iopub.status.busy": "2021-08-11T04:38:59.053779Z",
     "iopub.status.idle": "2021-08-11T04:38:59.647750Z",
     "shell.execute_reply": "2021-08-11T04:38:59.646993Z",
     "shell.execute_reply.started": "2021-08-11T04:38:59.054224Z"
    }
   },
   "outputs": [
    {
     "data": {
      "text/plain": [
       "torch.Size([1, 50, 224, 224])"
      ]
     },
     "execution_count": 25,
     "metadata": {},
     "output_type": "execute_result"
    }
   ],
   "source": [
    "next(iter(train_ds))[0].shape"
   ]
  },
  {
   "cell_type": "code",
   "execution_count": 26,
   "metadata": {
    "execution": {
     "iopub.execute_input": "2021-08-11T04:38:59.649286Z",
     "iopub.status.busy": "2021-08-11T04:38:59.648977Z",
     "iopub.status.idle": "2021-08-11T04:38:59.838596Z",
     "shell.execute_reply": "2021-08-11T04:38:59.837683Z",
     "shell.execute_reply.started": "2021-08-11T04:38:59.649258Z"
    }
   },
   "outputs": [
    {
     "data": {
      "text/plain": [
       "<matplotlib.image.AxesImage at 0x7fd22dd31f90>"
      ]
     },
     "execution_count": 26,
     "metadata": {},
     "output_type": "execute_result"
    },
    {
     "data": {
      "image/png": "[encoded data removed]",
      "text/plain": [
       "<Figure size 432x288 with 1 Axes>"
      ]
     },
     "metadata": {
      "needs_background": "light"
     },
     "output_type": "display_data"
    }
   ],
   "source": [
    "plt.imshow(next(iter(train_ds))[0][0][24], cmap='gray')"
   ]
  },
  {
   "cell_type": "code",
   "execution_count": 27,
   "metadata": {
    "execution": {
     "iopub.execute_input": "2021-08-11T04:38:59.840301Z",
     "iopub.status.busy": "2021-08-11T04:38:59.839920Z",
     "iopub.status.idle": "2021-08-11T04:38:59.844861Z",
     "shell.execute_reply": "2021-08-11T04:38:59.843698Z",
     "shell.execute_reply.started": "2021-08-11T04:38:59.840261Z"
    }
   },
   "outputs": [],
   "source": [
    "train_dl = DataLoader(train_ds, batch_size=8)\n",
    "#valid_dl = DataLoader(train_ds, batch_size=8, shuffle=False)"
   ]
  },
  {
   "cell_type": "code",
   "execution_count": 28,
   "metadata": {
    "execution": {
     "iopub.execute_input": "2021-08-11T04:38:59.847243Z",
     "iopub.status.busy": "2021-08-11T04:38:59.846792Z",
     "iopub.status.idle": "2021-08-11T04:39:01.381480Z",
     "shell.execute_reply": "2021-08-11T04:39:01.380624Z",
     "shell.execute_reply.started": "2021-08-11T04:38:59.847207Z"
    }
   },
   "outputs": [],
   "source": [
    "imgs, labels = next(iter(train_dl))"
   ]
  },
  {
   "cell_type": "code",
   "execution_count": 29,
   "metadata": {
    "execution": {
     "iopub.execute_input": "2021-08-11T04:39:01.383064Z",
     "iopub.status.busy": "2021-08-11T04:39:01.382706Z",
     "iopub.status.idle": "2021-08-11T04:39:01.411466Z",
     "shell.execute_reply": "2021-08-11T04:39:01.410517Z",
     "shell.execute_reply.started": "2021-08-11T04:39:01.383027Z"
    }
   },
   "outputs": [
    {
     "data": {
      "text/plain": [
       "(torch.Size([8, 1, 50, 224, 224]), tensor([1., 1., 0., 1., 1., 1., 0., 1.]))"
      ]
     },
     "execution_count": 29,
     "metadata": {},
     "output_type": "execute_result"
    }
   ],
   "source": [
    "imgs.shape, labels"
   ]
  },
  {
   "cell_type": "code",
   "execution_count": 30,
   "metadata": {
    "execution": {
     "iopub.execute_input": "2021-08-11T04:39:01.413226Z",
     "iopub.status.busy": "2021-08-11T04:39:01.412851Z",
     "iopub.status.idle": "2021-08-11T04:39:01.488002Z",
     "shell.execute_reply": "2021-08-11T04:39:01.487166Z",
     "shell.execute_reply.started": "2021-08-11T04:39:01.413180Z"
    }
   },
   "outputs": [
    {
     "data": {
      "text/plain": [
       "device(type='cuda', index=0)"
      ]
     },
     "execution_count": 30,
     "metadata": {},
     "output_type": "execute_result"
    }
   ],
   "source": [
    "device_no = 0\n",
    "if torch.cuda.is_available() == True:\n",
    "    device = torch.device(device_no)\n",
    "else:\n",
    "    device = torch.device('cpu')\n",
    "device"
   ]
  },
  {
   "cell_type": "code",
   "execution_count": 31,
   "metadata": {
    "execution": {
     "iopub.execute_input": "2021-08-11T04:39:01.490318Z",
     "iopub.status.busy": "2021-08-11T04:39:01.490066Z",
     "iopub.status.idle": "2021-08-11T04:39:01.501678Z",
     "shell.execute_reply": "2021-08-11T04:39:01.500857Z",
     "shell.execute_reply.started": "2021-08-11T04:39:01.490292Z"
    }
   },
   "outputs": [],
   "source": [
    "def one_pass(model, dataloader, optimizer, lossFun, backwards=True, print_loss=False):\n",
    "    \n",
    "    if backwards == True:\n",
    "        model.train()\n",
    "    else:\n",
    "        model.eval()\n",
    "    \n",
    "    total_loss = 0.0\n",
    "    for x, y in tqdm(dataloader):\n",
    "        x, y = x.to(device), y.to(device)\n",
    "        y_pred = model(x)\n",
    "        y_pred = torch.sigmoid(y_pred).squeeze()\n",
    "        loss = lossFun(y_pred, y)\n",
    "        total_loss += loss.item()\n",
    "        \n",
    "        if backwards == True:\n",
    "            optimizer.zero_grad()\n",
    "            loss.backward()\n",
    "            optimizer.step()\n",
    "    avg_loss = total_loss / len(dataloader)\n",
    "    \n",
    "    if print_loss == True:\n",
    "        print(avg_loss)\n",
    "    \n",
    "    return avg_loss\n",
    "\n",
    "def one_pass_acc(model, dataloader, num_points):\n",
    "    model.eval()\n",
    "    total_incorrect = 0\n",
    "        \n",
    "    for x, y in dataloader:\n",
    "        x, y = x.to(device), y.to(device)\n",
    "        y_pred = model(x)\n",
    "        y_pred = torch.sigmoid(y_pred).squeeze()\n",
    "        y_pred = (y_pred > 0.5).int()\n",
    "        \n",
    "        total_incorrect += torch.count_nonzero(y - y_pred).item()\n",
    "        \n",
    "    percent_wrong = total_incorrect / num_points\n",
    "    return 1 - percent_wrong"
   ]
  },
  {
   "cell_type": "code",
   "execution_count": 32,
   "metadata": {
    "execution": {
     "iopub.execute_input": "2021-08-11T04:39:01.504909Z",
     "iopub.status.busy": "2021-08-11T04:39:01.504627Z",
     "iopub.status.idle": "2021-08-11T04:39:01.628505Z",
     "shell.execute_reply": "2021-08-11T04:39:01.627683Z",
     "shell.execute_reply.started": "2021-08-11T04:39:01.504882Z"
    }
   },
   "outputs": [
    {
     "name": "stdout",
     "output_type": "stream",
     "text": [
      "Skipping loading pretrained weights for non-default efficientnet-b0, pretrained=False, is_default_model=False\n"
     ]
    }
   ],
   "source": [
    "model = EfficientNetBN(\"efficientnet-b0\", pretrained=False, spatial_dims=3, in_channels=1, num_classes=1)\n",
    "optimizer = torch.optim.Adam(model.parameters(), lr=0.001)\n",
    "lossFun = nn.BCELoss()"
   ]
  },
  {
   "cell_type": "code",
   "execution_count": 33,
   "metadata": {
    "execution": {
     "iopub.execute_input": "2021-08-11T04:39:01.630054Z",
     "iopub.status.busy": "2021-08-11T04:39:01.629710Z",
     "iopub.status.idle": "2021-08-11T04:39:06.390723Z",
     "shell.execute_reply": "2021-08-11T04:39:06.389913Z",
     "shell.execute_reply.started": "2021-08-11T04:39:01.630023Z"
    }
   },
   "outputs": [
    {
     "data": {
      "text/plain": [
       "EfficientNetBN(\n",
       "  (_conv_stem): Conv3d(1, 32, kernel_size=(3, 3, 3), stride=(2, 2, 2), bias=False)\n",
       "  (_conv_stem_padding): ConstantPad3d(padding=[0, 1, 0, 1, 0, 1], value=0.0)\n",
       "  (_bn0): BatchNorm3d(32, eps=0.001, momentum=0.010000000000000009, affine=True, track_running_stats=True)\n",
       "  (_blocks): Sequential(\n",
       "    (0): MBConvBlock(\n",
       "      (_expand_conv): Identity()\n",
       "      (_expand_conv_padding): Identity()\n",
       "      (_bn0): Identity()\n",
       "      (_depthwise_conv): Conv3d(32, 32, kernel_size=(3, 3, 3), stride=(1, 1, 1), groups=32, bias=False)\n",
       "      (_depthwise_conv_padding): ConstantPad3d(padding=[1, 1, 1, 1, 1, 1], value=0.0)\n",
       "      (_bn1): BatchNorm3d(32, eps=0.001, momentum=0.010000000000000009, affine=True, track_running_stats=True)\n",
       "      (_se_adaptpool): AdaptiveAvgPool3d(output_size=1)\n",
       "      (_se_reduce): Conv3d(32, 8, kernel_size=(1, 1, 1), stride=(1, 1, 1))\n",
       "      (_se_reduce_padding): Identity()\n",
       "      (_se_expand): Conv3d(8, 32, kernel_size=(1, 1, 1), stride=(1, 1, 1))\n",
       "      (_se_expand_padding): Identity()\n",
       "      (_project_conv): Conv3d(32, 16, kernel_size=(1, 1, 1), stride=(1, 1, 1), bias=False)\n",
       "      (_project_conv_padding): Identity()\n",
       "      (_bn2): BatchNorm3d(16, eps=0.001, momentum=0.010000000000000009, affine=True, track_running_stats=True)\n",
       "      (_swish): MemoryEfficientSwish()\n",
       "    )\n",
       "    (1): MBConvBlock(\n",
       "      (_expand_conv): Conv3d(16, 96, kernel_size=(1, 1, 1), stride=(1, 1, 1), bias=False)\n",
       "      (_expand_conv_padding): Identity()\n",
       "      (_bn0): BatchNorm3d(96, eps=0.001, momentum=0.010000000000000009, affine=True, track_running_stats=True)\n",
       "      (_depthwise_conv): Conv3d(96, 96, kernel_size=(3, 3, 3), stride=(2, 2, 2), groups=96, bias=False)\n",
       "      (_depthwise_conv_padding): ConstantPad3d(padding=[0, 1, 0, 1, 0, 1], value=0.0)\n",
       "      (_bn1): BatchNorm3d(96, eps=0.001, momentum=0.010000000000000009, affine=True, track_running_stats=True)\n",
       "      (_se_adaptpool): AdaptiveAvgPool3d(output_size=1)\n",
       "      (_se_reduce): Conv3d(96, 4, kernel_size=(1, 1, 1), stride=(1, 1, 1))\n",
       "      (_se_reduce_padding): Identity()\n",
       "      (_se_expand): Conv3d(4, 96, kernel_size=(1, 1, 1), stride=(1, 1, 1))\n",
       "      (_se_expand_padding): Identity()\n",
       "      (_project_conv): Conv3d(96, 24, kernel_size=(1, 1, 1), stride=(1, 1, 1), bias=False)\n",
       "      (_project_conv_padding): Identity()\n",
       "      (_bn2): BatchNorm3d(24, eps=0.001, momentum=0.010000000000000009, affine=True, track_running_stats=True)\n",
       "      (_swish): MemoryEfficientSwish()\n",
       "    )\n",
       "    (2): MBConvBlock(\n",
       "      (_expand_conv): Conv3d(24, 144, kernel_size=(1, 1, 1), stride=(1, 1, 1), bias=False)\n",
       "      (_expand_conv_padding): Identity()\n",
       "      (_bn0): BatchNorm3d(144, eps=0.001, momentum=0.010000000000000009, affine=True, track_running_stats=True)\n",
       "      (_depthwise_conv): Conv3d(144, 144, kernel_size=(3, 3, 3), stride=(1, 1, 1), groups=144, bias=False)\n",
       "      (_depthwise_conv_padding): ConstantPad3d(padding=[1, 1, 1, 1, 1, 1], value=0.0)\n",
       "      (_bn1): BatchNorm3d(144, eps=0.001, momentum=0.010000000000000009, affine=True, track_running_stats=True)\n",
       "      (_se_adaptpool): AdaptiveAvgPool3d(output_size=1)\n",
       "      (_se_reduce): Conv3d(144, 6, kernel_size=(1, 1, 1), stride=(1, 1, 1))\n",
       "      (_se_reduce_padding): Identity()\n",
       "      (_se_expand): Conv3d(6, 144, kernel_size=(1, 1, 1), stride=(1, 1, 1))\n",
       "      (_se_expand_padding): Identity()\n",
       "      (_project_conv): Conv3d(144, 24, kernel_size=(1, 1, 1), stride=(1, 1, 1), bias=False)\n",
       "      (_project_conv_padding): Identity()\n",
       "      (_bn2): BatchNorm3d(24, eps=0.001, momentum=0.010000000000000009, affine=True, track_running_stats=True)\n",
       "      (_swish): MemoryEfficientSwish()\n",
       "    )\n",
       "    (3): MBConvBlock(\n",
       "      (_expand_conv): Conv3d(24, 144, kernel_size=(1, 1, 1), stride=(1, 1, 1), bias=False)\n",
       "      (_expand_conv_padding): Identity()\n",
       "      (_bn0): BatchNorm3d(144, eps=0.001, momentum=0.010000000000000009, affine=True, track_running_stats=True)\n",
       "      (_depthwise_conv): Conv3d(144, 144, kernel_size=(5, 5, 5), stride=(2, 2, 2), groups=144, bias=False)\n",
       "      (_depthwise_conv_padding): ConstantPad3d(padding=[1, 2, 1, 2, 1, 2], value=0.0)\n",
       "      (_bn1): BatchNorm3d(144, eps=0.001, momentum=0.010000000000000009, affine=True, track_running_stats=True)\n",
       "      (_se_adaptpool): AdaptiveAvgPool3d(output_size=1)\n",
       "      (_se_reduce): Conv3d(144, 6, kernel_size=(1, 1, 1), stride=(1, 1, 1))\n",
       "      (_se_reduce_padding): Identity()\n",
       "      (_se_expand): Conv3d(6, 144, kernel_size=(1, 1, 1), stride=(1, 1, 1))\n",
       "      (_se_expand_padding): Identity()\n",
       "      (_project_conv): Conv3d(144, 40, kernel_size=(1, 1, 1), stride=(1, 1, 1), bias=False)\n",
       "      (_project_conv_padding): Identity()\n",
       "      (_bn2): BatchNorm3d(40, eps=0.001, momentum=0.010000000000000009, affine=True, track_running_stats=True)\n",
       "      (_swish): MemoryEfficientSwish()\n",
       "    )\n",
       "    (4): MBConvBlock(\n",
       "      (_expand_conv): Conv3d(40, 240, kernel_size=(1, 1, 1), stride=(1, 1, 1), bias=False)\n",
       "      (_expand_conv_padding): Identity()\n",
       "      (_bn0): BatchNorm3d(240, eps=0.001, momentum=0.010000000000000009, affine=True, track_running_stats=True)\n",
       "      (_depthwise_conv): Conv3d(240, 240, kernel_size=(5, 5, 5), stride=(1, 1, 1), groups=240, bias=False)\n",
       "      (_depthwise_conv_padding): ConstantPad3d(padding=[2, 2, 2, 2, 2, 2], value=0.0)\n",
       "      (_bn1): BatchNorm3d(240, eps=0.001, momentum=0.010000000000000009, affine=True, track_running_stats=True)\n",
       "      (_se_adaptpool): AdaptiveAvgPool3d(output_size=1)\n",
       "      (_se_reduce): Conv3d(240, 10, kernel_size=(1, 1, 1), stride=(1, 1, 1))\n",
       "      (_se_reduce_padding): Identity()\n",
       "      (_se_expand): Conv3d(10, 240, kernel_size=(1, 1, 1), stride=(1, 1, 1))\n",
       "      (_se_expand_padding): Identity()\n",
       "      (_project_conv): Conv3d(240, 40, kernel_size=(1, 1, 1), stride=(1, 1, 1), bias=False)\n",
       "      (_project_conv_padding): Identity()\n",
       "      (_bn2): BatchNorm3d(40, eps=0.001, momentum=0.010000000000000009, affine=True, track_running_stats=True)\n",
       "      (_swish): MemoryEfficientSwish()\n",
       "    )\n",
       "    (5): MBConvBlock(\n",
       "      (_expand_conv): Conv3d(40, 240, kernel_size=(1, 1, 1), stride=(1, 1, 1), bias=False)\n",
       "      (_expand_conv_padding): Identity()\n",
       "      (_bn0): BatchNorm3d(240, eps=0.001, momentum=0.010000000000000009, affine=True, track_running_stats=True)\n",
       "      (_depthwise_conv): Conv3d(240, 240, kernel_size=(3, 3, 3), stride=(2, 2, 2), groups=240, bias=False)\n",
       "      (_depthwise_conv_padding): ConstantPad3d(padding=[0, 1, 0, 1, 0, 1], value=0.0)\n",
       "      (_bn1): BatchNorm3d(240, eps=0.001, momentum=0.010000000000000009, affine=True, track_running_stats=True)\n",
       "      (_se_adaptpool): AdaptiveAvgPool3d(output_size=1)\n",
       "      (_se_reduce): Conv3d(240, 10, kernel_size=(1, 1, 1), stride=(1, 1, 1))\n",
       "      (_se_reduce_padding): Identity()\n",
       "      (_se_expand): Conv3d(10, 240, kernel_size=(1, 1, 1), stride=(1, 1, 1))\n",
       "      (_se_expand_padding): Identity()\n",
       "      (_project_conv): Conv3d(240, 80, kernel_size=(1, 1, 1), stride=(1, 1, 1), bias=False)\n",
       "      (_project_conv_padding): Identity()\n",
       "      (_bn2): BatchNorm3d(80, eps=0.001, momentum=0.010000000000000009, affine=True, track_running_stats=True)\n",
       "      (_swish): MemoryEfficientSwish()\n",
       "    )\n",
       "    (6): MBConvBlock(\n",
       "      (_expand_conv): Conv3d(80, 480, kernel_size=(1, 1, 1), stride=(1, 1, 1), bias=False)\n",
       "      (_expand_conv_padding): Identity()\n",
       "      (_bn0): BatchNorm3d(480, eps=0.001, momentum=0.010000000000000009, affine=True, track_running_stats=True)\n",
       "      (_depthwise_conv): Conv3d(480, 480, kernel_size=(3, 3, 3), stride=(1, 1, 1), groups=480, bias=False)\n",
       "      (_depthwise_conv_padding): ConstantPad3d(padding=[1, 1, 1, 1, 1, 1], value=0.0)\n",
       "      (_bn1): BatchNorm3d(480, eps=0.001, momentum=0.010000000000000009, affine=True, track_running_stats=True)\n",
       "      (_se_adaptpool): AdaptiveAvgPool3d(output_size=1)\n",
       "      (_se_reduce): Conv3d(480, 20, kernel_size=(1, 1, 1), stride=(1, 1, 1))\n",
       "      (_se_reduce_padding): Identity()\n",
       "      (_se_expand): Conv3d(20, 480, kernel_size=(1, 1, 1), stride=(1, 1, 1))\n",
       "      (_se_expand_padding): Identity()\n",
       "      (_project_conv): Conv3d(480, 80, kernel_size=(1, 1, 1), stride=(1, 1, 1), bias=False)\n",
       "      (_project_conv_padding): Identity()\n",
       "      (_bn2): BatchNorm3d(80, eps=0.001, momentum=0.010000000000000009, affine=True, track_running_stats=True)\n",
       "      (_swish): MemoryEfficientSwish()\n",
       "    )\n",
       "    (7): MBConvBlock(\n",
       "      (_expand_conv): Conv3d(80, 480, kernel_size=(1, 1, 1), stride=(1, 1, 1), bias=False)\n",
       "      (_expand_conv_padding): Identity()\n",
       "      (_bn0): BatchNorm3d(480, eps=0.001, momentum=0.010000000000000009, affine=True, track_running_stats=True)\n",
       "      (_depthwise_conv): Conv3d(480, 480, kernel_size=(3, 3, 3), stride=(1, 1, 1), groups=480, bias=False)\n",
       "      (_depthwise_conv_padding): ConstantPad3d(padding=[1, 1, 1, 1, 1, 1], value=0.0)\n",
       "      (_bn1): BatchNorm3d(480, eps=0.001, momentum=0.010000000000000009, affine=True, track_running_stats=True)\n",
       "      (_se_adaptpool): AdaptiveAvgPool3d(output_size=1)\n",
       "      (_se_reduce): Conv3d(480, 20, kernel_size=(1, 1, 1), stride=(1, 1, 1))\n",
       "      (_se_reduce_padding): Identity()\n",
       "      (_se_expand): Conv3d(20, 480, kernel_size=(1, 1, 1), stride=(1, 1, 1))\n",
       "      (_se_expand_padding): Identity()\n",
       "      (_project_conv): Conv3d(480, 80, kernel_size=(1, 1, 1), stride=(1, 1, 1), bias=False)\n",
       "      (_project_conv_padding): Identity()\n",
       "      (_bn2): BatchNorm3d(80, eps=0.001, momentum=0.010000000000000009, affine=True, track_running_stats=True)\n",
       "      (_swish): MemoryEfficientSwish()\n",
       "    )\n",
       "    (8): MBConvBlock(\n",
       "      (_expand_conv): Conv3d(80, 480, kernel_size=(1, 1, 1), stride=(1, 1, 1), bias=False)\n",
       "      (_expand_conv_padding): Identity()\n",
       "      (_bn0): BatchNorm3d(480, eps=0.001, momentum=0.010000000000000009, affine=True, track_running_stats=True)\n",
       "      (_depthwise_conv): Conv3d(480, 480, kernel_size=(5, 5, 5), stride=(1, 1, 1), groups=480, bias=False)\n",
       "      (_depthwise_conv_padding): ConstantPad3d(padding=[2, 2, 2, 2, 2, 2], value=0.0)\n",
       "      (_bn1): BatchNorm3d(480, eps=0.001, momentum=0.010000000000000009, affine=True, track_running_stats=True)\n",
       "      (_se_adaptpool): AdaptiveAvgPool3d(output_size=1)\n",
       "      (_se_reduce): Conv3d(480, 20, kernel_size=(1, 1, 1), stride=(1, 1, 1))\n",
       "      (_se_reduce_padding): Identity()\n",
       "      (_se_expand): Conv3d(20, 480, kernel_size=(1, 1, 1), stride=(1, 1, 1))\n",
       "      (_se_expand_padding): Identity()\n",
       "      (_project_conv): Conv3d(480, 112, kernel_size=(1, 1, 1), stride=(1, 1, 1), bias=False)\n",
       "      (_project_conv_padding): Identity()\n",
       "      (_bn2): BatchNorm3d(112, eps=0.001, momentum=0.010000000000000009, affine=True, track_running_stats=True)\n",
       "      (_swish): MemoryEfficientSwish()\n",
       "    )\n",
       "    (9): MBConvBlock(\n",
       "      (_expand_conv): Conv3d(112, 672, kernel_size=(1, 1, 1), stride=(1, 1, 1), bias=False)\n",
       "      (_expand_conv_padding): Identity()\n",
       "      (_bn0): BatchNorm3d(672, eps=0.001, momentum=0.010000000000000009, affine=True, track_running_stats=True)\n",
       "      (_depthwise_conv): Conv3d(672, 672, kernel_size=(5, 5, 5), stride=(1, 1, 1), groups=672, bias=False)\n",
       "      (_depthwise_conv_padding): ConstantPad3d(padding=[2, 2, 2, 2, 2, 2], value=0.0)\n",
       "      (_bn1): BatchNorm3d(672, eps=0.001, momentum=0.010000000000000009, affine=True, track_running_stats=True)\n",
       "      (_se_adaptpool): AdaptiveAvgPool3d(output_size=1)\n",
       "      (_se_reduce): Conv3d(672, 28, kernel_size=(1, 1, 1), stride=(1, 1, 1))\n",
       "      (_se_reduce_padding): Identity()\n",
       "      (_se_expand): Conv3d(28, 672, kernel_size=(1, 1, 1), stride=(1, 1, 1))\n",
       "      (_se_expand_padding): Identity()\n",
       "      (_project_conv): Conv3d(672, 112, kernel_size=(1, 1, 1), stride=(1, 1, 1), bias=False)\n",
       "      (_project_conv_padding): Identity()\n",
       "      (_bn2): BatchNorm3d(112, eps=0.001, momentum=0.010000000000000009, affine=True, track_running_stats=True)\n",
       "      (_swish): MemoryEfficientSwish()\n",
       "    )\n",
       "    (10): MBConvBlock(\n",
       "      (_expand_conv): Conv3d(112, 672, kernel_size=(1, 1, 1), stride=(1, 1, 1), bias=False)\n",
       "      (_expand_conv_padding): Identity()\n",
       "      (_bn0): BatchNorm3d(672, eps=0.001, momentum=0.010000000000000009, affine=True, track_running_stats=True)\n",
       "      (_depthwise_conv): Conv3d(672, 672, kernel_size=(5, 5, 5), stride=(1, 1, 1), groups=672, bias=False)\n",
       "      (_depthwise_conv_padding): ConstantPad3d(padding=[2, 2, 2, 2, 2, 2], value=0.0)\n",
       "      (_bn1): BatchNorm3d(672, eps=0.001, momentum=0.010000000000000009, affine=True, track_running_stats=True)\n",
       "      (_se_adaptpool): AdaptiveAvgPool3d(output_size=1)\n",
       "      (_se_reduce): Conv3d(672, 28, kernel_size=(1, 1, 1), stride=(1, 1, 1))\n",
       "      (_se_reduce_padding): Identity()\n",
       "      (_se_expand): Conv3d(28, 672, kernel_size=(1, 1, 1), stride=(1, 1, 1))\n",
       "      (_se_expand_padding): Identity()\n",
       "      (_project_conv): Conv3d(672, 112, kernel_size=(1, 1, 1), stride=(1, 1, 1), bias=False)\n",
       "      (_project_conv_padding): Identity()\n",
       "      (_bn2): BatchNorm3d(112, eps=0.001, momentum=0.010000000000000009, affine=True, track_running_stats=True)\n",
       "      (_swish): MemoryEfficientSwish()\n",
       "    )\n",
       "    (11): MBConvBlock(\n",
       "      (_expand_conv): Conv3d(112, 672, kernel_size=(1, 1, 1), stride=(1, 1, 1), bias=False)\n",
       "      (_expand_conv_padding): Identity()\n",
       "      (_bn0): BatchNorm3d(672, eps=0.001, momentum=0.010000000000000009, affine=True, track_running_stats=True)\n",
       "      (_depthwise_conv): Conv3d(672, 672, kernel_size=(5, 5, 5), stride=(2, 2, 2), groups=672, bias=False)\n",
       "      (_depthwise_conv_padding): ConstantPad3d(padding=[1, 2, 1, 2, 1, 2], value=0.0)\n",
       "      (_bn1): BatchNorm3d(672, eps=0.001, momentum=0.010000000000000009, affine=True, track_running_stats=True)\n",
       "      (_se_adaptpool): AdaptiveAvgPool3d(output_size=1)\n",
       "      (_se_reduce): Conv3d(672, 28, kernel_size=(1, 1, 1), stride=(1, 1, 1))\n",
       "      (_se_reduce_padding): Identity()\n",
       "      (_se_expand): Conv3d(28, 672, kernel_size=(1, 1, 1), stride=(1, 1, 1))\n",
       "      (_se_expand_padding): Identity()\n",
       "      (_project_conv): Conv3d(672, 192, kernel_size=(1, 1, 1), stride=(1, 1, 1), bias=False)\n",
       "      (_project_conv_padding): Identity()\n",
       "      (_bn2): BatchNorm3d(192, eps=0.001, momentum=0.010000000000000009, affine=True, track_running_stats=True)\n",
       "      (_swish): MemoryEfficientSwish()\n",
       "    )\n",
       "    (12): MBConvBlock(\n",
       "      (_expand_conv): Conv3d(192, 1152, kernel_size=(1, 1, 1), stride=(1, 1, 1), bias=False)\n",
       "      (_expand_conv_padding): Identity()\n",
       "      (_bn0): BatchNorm3d(1152, eps=0.001, momentum=0.010000000000000009, affine=True, track_running_stats=True)\n",
       "      (_depthwise_conv): Conv3d(1152, 1152, kernel_size=(5, 5, 5), stride=(1, 1, 1), groups=1152, bias=False)\n",
       "      (_depthwise_conv_padding): ConstantPad3d(padding=[2, 2, 2, 2, 2, 2], value=0.0)\n",
       "      (_bn1): BatchNorm3d(1152, eps=0.001, momentum=0.010000000000000009, affine=True, track_running_stats=True)\n",
       "      (_se_adaptpool): AdaptiveAvgPool3d(output_size=1)\n",
       "      (_se_reduce): Conv3d(1152, 48, kernel_size=(1, 1, 1), stride=(1, 1, 1))\n",
       "      (_se_reduce_padding): Identity()\n",
       "      (_se_expand): Conv3d(48, 1152, kernel_size=(1, 1, 1), stride=(1, 1, 1))\n",
       "      (_se_expand_padding): Identity()\n",
       "      (_project_conv): Conv3d(1152, 192, kernel_size=(1, 1, 1), stride=(1, 1, 1), bias=False)\n",
       "      (_project_conv_padding): Identity()\n",
       "      (_bn2): BatchNorm3d(192, eps=0.001, momentum=0.010000000000000009, affine=True, track_running_stats=True)\n",
       "      (_swish): MemoryEfficientSwish()\n",
       "    )\n",
       "    (13): MBConvBlock(\n",
       "      (_expand_conv): Conv3d(192, 1152, kernel_size=(1, 1, 1), stride=(1, 1, 1), bias=False)\n",
       "      (_expand_conv_padding): Identity()\n",
       "      (_bn0): BatchNorm3d(1152, eps=0.001, momentum=0.010000000000000009, affine=True, track_running_stats=True)\n",
       "      (_depthwise_conv): Conv3d(1152, 1152, kernel_size=(5, 5, 5), stride=(1, 1, 1), groups=1152, bias=False)\n",
       "      (_depthwise_conv_padding): ConstantPad3d(padding=[2, 2, 2, 2, 2, 2], value=0.0)\n",
       "      (_bn1): BatchNorm3d(1152, eps=0.001, momentum=0.010000000000000009, affine=True, track_running_stats=True)\n",
       "      (_se_adaptpool): AdaptiveAvgPool3d(output_size=1)\n",
       "      (_se_reduce): Conv3d(1152, 48, kernel_size=(1, 1, 1), stride=(1, 1, 1))\n",
       "      (_se_reduce_padding): Identity()\n",
       "      (_se_expand): Conv3d(48, 1152, kernel_size=(1, 1, 1), stride=(1, 1, 1))\n",
       "      (_se_expand_padding): Identity()\n",
       "      (_project_conv): Conv3d(1152, 192, kernel_size=(1, 1, 1), stride=(1, 1, 1), bias=False)\n",
       "      (_project_conv_padding): Identity()\n",
       "      (_bn2): BatchNorm3d(192, eps=0.001, momentum=0.010000000000000009, affine=True, track_running_stats=True)\n",
       "      (_swish): MemoryEfficientSwish()\n",
       "    )\n",
       "    (14): MBConvBlock(\n",
       "      (_expand_conv): Conv3d(192, 1152, kernel_size=(1, 1, 1), stride=(1, 1, 1), bias=False)\n",
       "      (_expand_conv_padding): Identity()\n",
       "      (_bn0): BatchNorm3d(1152, eps=0.001, momentum=0.010000000000000009, affine=True, track_running_stats=True)\n",
       "      (_depthwise_conv): Conv3d(1152, 1152, kernel_size=(5, 5, 5), stride=(1, 1, 1), groups=1152, bias=False)\n",
       "      (_depthwise_conv_padding): ConstantPad3d(padding=[2, 2, 2, 2, 2, 2], value=0.0)\n",
       "      (_bn1): BatchNorm3d(1152, eps=0.001, momentum=0.010000000000000009, affine=True, track_running_stats=True)\n",
       "      (_se_adaptpool): AdaptiveAvgPool3d(output_size=1)\n",
       "      (_se_reduce): Conv3d(1152, 48, kernel_size=(1, 1, 1), stride=(1, 1, 1))\n",
       "      (_se_reduce_padding): Identity()\n",
       "      (_se_expand): Conv3d(48, 1152, kernel_size=(1, 1, 1), stride=(1, 1, 1))\n",
       "      (_se_expand_padding): Identity()\n",
       "      (_project_conv): Conv3d(1152, 192, kernel_size=(1, 1, 1), stride=(1, 1, 1), bias=False)\n",
       "      (_project_conv_padding): Identity()\n",
       "      (_bn2): BatchNorm3d(192, eps=0.001, momentum=0.010000000000000009, affine=True, track_running_stats=True)\n",
       "      (_swish): MemoryEfficientSwish()\n",
       "    )\n",
       "    (15): MBConvBlock(\n",
       "      (_expand_conv): Conv3d(192, 1152, kernel_size=(1, 1, 1), stride=(1, 1, 1), bias=False)\n",
       "      (_expand_conv_padding): Identity()\n",
       "      (_bn0): BatchNorm3d(1152, eps=0.001, momentum=0.010000000000000009, affine=True, track_running_stats=True)\n",
       "      (_depthwise_conv): Conv3d(1152, 1152, kernel_size=(3, 3, 3), stride=(1, 1, 1), groups=1152, bias=False)\n",
       "      (_depthwise_conv_padding): ConstantPad3d(padding=[1, 1, 1, 1, 1, 1], value=0.0)\n",
       "      (_bn1): BatchNorm3d(1152, eps=0.001, momentum=0.010000000000000009, affine=True, track_running_stats=True)\n",
       "      (_se_adaptpool): AdaptiveAvgPool3d(output_size=1)\n",
       "      (_se_reduce): Conv3d(1152, 48, kernel_size=(1, 1, 1), stride=(1, 1, 1))\n",
       "      (_se_reduce_padding): Identity()\n",
       "      (_se_expand): Conv3d(48, 1152, kernel_size=(1, 1, 1), stride=(1, 1, 1))\n",
       "      (_se_expand_padding): Identity()\n",
       "      (_project_conv): Conv3d(1152, 320, kernel_size=(1, 1, 1), stride=(1, 1, 1), bias=False)\n",
       "      (_project_conv_padding): Identity()\n",
       "      (_bn2): BatchNorm3d(320, eps=0.001, momentum=0.010000000000000009, affine=True, track_running_stats=True)\n",
       "      (_swish): MemoryEfficientSwish()\n",
       "    )\n",
       "  )\n",
       "  (_conv_head): Conv3d(320, 1280, kernel_size=(1, 1, 1), stride=(1, 1, 1), bias=False)\n",
       "  (_conv_head_padding): Identity()\n",
       "  (_bn1): BatchNorm3d(1280, eps=0.001, momentum=0.010000000000000009, affine=True, track_running_stats=True)\n",
       "  (_avg_pooling): AdaptiveAvgPool3d(output_size=1)\n",
       "  (_dropout): Dropout(p=0.2, inplace=False)\n",
       "  (_fc): Linear(in_features=1280, out_features=1, bias=True)\n",
       "  (_swish): MemoryEfficientSwish()\n",
       ")"
      ]
     },
     "execution_count": 33,
     "metadata": {},
     "output_type": "execute_result"
    }
   ],
   "source": [
    "model.to(device)"
   ]
  },
  {
   "cell_type": "code",
   "execution_count": 34,
   "metadata": {
    "execution": {
     "iopub.execute_input": "2021-08-11T04:39:06.392314Z",
     "iopub.status.busy": "2021-08-11T04:39:06.391985Z",
     "iopub.status.idle": "2021-08-11T06:35:24.129865Z",
     "shell.execute_reply": "2021-08-11T06:35:24.128822Z",
     "shell.execute_reply.started": "2021-08-11T04:39:06.392276Z"
    }
   },
   "outputs": [
    {
     "data": {
      "application/vnd.jupyter.widget-view+json": {
       "model_id": "c0da2e819d6342bc8d875e08a8462927",
       "version_major": 2,
       "version_minor": 0
      },
      "text/plain": [
       "  0%|          | 0/10 [00:00<?, ?it/s]"
      ]
     },
     "metadata": {},
     "output_type": "display_data"
    },
    {
     "name": "stdout",
     "output_type": "stream",
     "text": [
      "Epoch:  0\n"
     ]
    },
    {
     "data": {
      "application/vnd.jupyter.widget-view+json": {
       "model_id": "95363a01cf374420bb3ae107781b84a3",
       "version_major": 2,
       "version_minor": 0
      },
      "text/plain": [
       "  0%|          | 0/71 [00:00<?, ?it/s]"
      ]
     },
     "metadata": {},
     "output_type": "display_data"
    },
    {
     "name": "stdout",
     "output_type": "stream",
     "text": [
      "Train loss:  44.65246663295047\n",
      "Train Acc:  0.5291005291005291\n",
      "Epoch:  1\n"
     ]
    },
    {
     "data": {
      "application/vnd.jupyter.widget-view+json": {
       "model_id": "3ed73ea1fe904aa0a897cd121afa98cb",
       "version_major": 2,
       "version_minor": 0
      },
      "text/plain": [
       "  0%|          | 0/71 [00:00<?, ?it/s]"
      ]
     },
     "metadata": {},
     "output_type": "display_data"
    },
    {
     "name": "stdout",
     "output_type": "stream",
     "text": [
      "Train loss:  47.521094308772554\n",
      "Train Acc:  0.5291005291005291\n",
      "Epoch:  2\n"
     ]
    },
    {
     "data": {
      "application/vnd.jupyter.widget-view+json": {
       "model_id": "7d75e7e1020d4636838bce2d54584e06",
       "version_major": 2,
       "version_minor": 0
      },
      "text/plain": [
       "  0%|          | 0/71 [00:00<?, ?it/s]"
      ]
     },
     "metadata": {},
     "output_type": "display_data"
    },
    {
     "name": "stdout",
     "output_type": "stream",
     "text": [
      "Train loss:  23.438433072936366\n",
      "Train Acc:  0.47089947089947093\n",
      "Epoch:  3\n"
     ]
    },
    {
     "data": {
      "application/vnd.jupyter.widget-view+json": {
       "model_id": "2c4ef03b95a04d52a3c51e7f2f9e312a",
       "version_major": 2,
       "version_minor": 0
      },
      "text/plain": [
       "  0%|          | 0/71 [00:00<?, ?it/s]"
      ]
     },
     "metadata": {},
     "output_type": "display_data"
    },
    {
     "name": "stdout",
     "output_type": "stream",
     "text": [
      "Train loss:  13.644126835843208\n",
      "Train Acc:  0.47089947089947093\n",
      "Epoch:  4\n"
     ]
    },
    {
     "data": {
      "application/vnd.jupyter.widget-view+json": {
       "model_id": "fad95680d9014b91bbaa40b319b981ee",
       "version_major": 2,
       "version_minor": 0
      },
      "text/plain": [
       "  0%|          | 0/71 [00:00<?, ?it/s]"
      ]
     },
     "metadata": {},
     "output_type": "display_data"
    },
    {
     "name": "stdout",
     "output_type": "stream",
     "text": [
      "Train loss:  9.082016472665357\n",
      "Train Acc:  0.5291005291005291\n",
      "Epoch:  5\n"
     ]
    },
    {
     "data": {
      "application/vnd.jupyter.widget-view+json": {
       "model_id": "22de0b82e2ea420d8dd9a78538ecdf40",
       "version_major": 2,
       "version_minor": 0
      },
      "text/plain": [
       "  0%|          | 0/71 [00:00<?, ?it/s]"
      ]
     },
     "metadata": {},
     "output_type": "display_data"
    },
    {
     "name": "stdout",
     "output_type": "stream",
     "text": [
      "Train loss:  7.11871782910656\n",
      "Train Acc:  0.5379188712522046\n",
      "Epoch:  6\n"
     ]
    },
    {
     "data": {
      "application/vnd.jupyter.widget-view+json": {
       "model_id": "644d96f0a51240f3b4c763920f7a0bd3",
       "version_major": 2,
       "version_minor": 0
      },
      "text/plain": [
       "  0%|          | 0/71 [00:00<?, ?it/s]"
      ]
     },
     "metadata": {},
     "output_type": "display_data"
    },
    {
     "name": "stdout",
     "output_type": "stream",
     "text": [
      "Train loss:  6.04854974696334\n",
      "Train Acc:  0.49382716049382713\n",
      "Epoch:  7\n"
     ]
    },
    {
     "data": {
      "application/vnd.jupyter.widget-view+json": {
       "model_id": "17c2ebb755184132ac0c28cec221799e",
       "version_major": 2,
       "version_minor": 0
      },
      "text/plain": [
       "  0%|          | 0/71 [00:00<?, ?it/s]"
      ]
     },
     "metadata": {},
     "output_type": "display_data"
    },
    {
     "name": "stdout",
     "output_type": "stream",
     "text": [
      "Train loss:  6.170274350005136\n",
      "Train Acc:  0.48324514991181655\n",
      "Epoch:  8\n"
     ]
    },
    {
     "data": {
      "application/vnd.jupyter.widget-view+json": {
       "model_id": "06dd56d59ee948738b95e319861f72d5",
       "version_major": 2,
       "version_minor": 0
      },
      "text/plain": [
       "  0%|          | 0/71 [00:00<?, ?it/s]"
      ]
     },
     "metadata": {},
     "output_type": "display_data"
    },
    {
     "name": "stdout",
     "output_type": "stream",
     "text": [
      "Train loss:  6.342314365044446\n",
      "Train Acc:  0.4744268077601411\n",
      "Epoch:  9\n"
     ]
    },
    {
     "data": {
      "application/vnd.jupyter.widget-view+json": {
       "model_id": "fddbc29b9701452387f0ab92b0d64d22",
       "version_major": 2,
       "version_minor": 0
      },
      "text/plain": [
       "  0%|          | 0/71 [00:00<?, ?it/s]"
      ]
     },
     "metadata": {},
     "output_type": "display_data"
    },
    {
     "name": "stdout",
     "output_type": "stream",
     "text": [
      "Train loss:  6.711480766534805\n",
      "Train Acc:  0.5291005291005291\n"
     ]
    }
   ],
   "source": [
    "num_epochs = 10\n",
    "train_losses = []\n",
    "\n",
    "for epoch in tqdm(range(num_epochs)):\n",
    "    print('Epoch: ', epoch)\n",
    "    \n",
    "    train_loss = one_pass(model, train_dl, optimizer, lossFun)\n",
    "    train_losses.append(train_loss)\n",
    "    print('Train loss: ', train_loss)\n",
    "        \n",
    "    train_acc = one_pass_acc(model, train_dl, len(train_ds))\n",
    "    print('Train Acc: ', train_acc)"
   ]
  },
  {
   "cell_type": "code",
   "execution_count": null,
   "metadata": {},
   "outputs": [],
   "source": []
  }
 ],
 "metadata": {
  "kernelspec": {
   "display_name": "Python 3",
   "language": "python",
   "name": "python3"
  },
  "language_info": {
   "codemirror_mode": {
    "name": "ipython",
    "version": 3
   },
   "file_extension": ".py",
   "mimetype": "text/x-python",
   "name": "python",
   "nbconvert_exporter": "python",
   "pygments_lexer": "ipython3",
   "version": "3.8.3"
  }
 },
 "nbformat": 4,
 "nbformat_minor": 4
}
